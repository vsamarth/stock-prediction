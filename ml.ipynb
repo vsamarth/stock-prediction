{
 "cells": [
  {
   "cell_type": "code",
   "execution_count": 169,
   "metadata": {},
   "outputs": [],
   "source": [
    "import yfinance as yf\n",
    "import matplotlib.pyplot as plt\n",
    "import pandas as pd\n",
    "import seaborn as sns\n",
    "import numpy as np\n",
    "import talib\n",
    "\n",
    "sns.set_style('darkgrid')"
   ]
  },
  {
   "cell_type": "code",
   "execution_count": 170,
   "metadata": {},
   "outputs": [
    {
     "name": "stderr",
     "output_type": "stream",
     "text": [
      "/var/folders/lg/qshzdl1s03z_hdz077pw4nbm0000gn/T/ipykernel_24108/278006168.py:9: SettingWithCopyWarning: \n",
      "A value is trying to be set on a copy of a slice from a DataFrame.\n",
      "Try using .loc[row_indexer,col_indexer] = value instead\n",
      "\n",
      "See the caveats in the documentation: https://pandas.pydata.org/pandas-docs/stable/user_guide/indexing.html#returning-a-view-versus-a-copy\n",
      "  df['SMA'] = talib.SMA(df['Close'], timeperiod=lookback)\n"
     ]
    }
   ],
   "source": [
    "nvda = yf.Ticker(\"NVDA\")\n",
    "nvda_data = nvda.history(period=\"5y\")\n",
    "\n",
    "df = nvda_data[[\"Close\"]]\n",
    "df.index = pd.to_datetime(df.index.date)\n",
    "\n",
    "lookback = 20\n",
    "\n",
    "df['SMA'] = talib.SMA(df['Close'], timeperiod=lookback)"
   ]
  },
  {
   "cell_type": "code",
   "execution_count": 171,
   "metadata": {},
   "outputs": [
    {
     "name": "stderr",
     "output_type": "stream",
     "text": [
      "/var/folders/lg/qshzdl1s03z_hdz077pw4nbm0000gn/T/ipykernel_24108/1192117267.py:4: SettingWithCopyWarning: \n",
      "A value is trying to be set on a copy of a slice from a DataFrame.\n",
      "Try using .loc[row_indexer,col_indexer] = value instead\n",
      "\n",
      "See the caveats in the documentation: https://pandas.pydata.org/pandas-docs/stable/user_guide/indexing.html#returning-a-view-versus-a-copy\n",
      "  df[f\"c{i}\"] = df['Close'].shift(i)\n",
      "/var/folders/lg/qshzdl1s03z_hdz077pw4nbm0000gn/T/ipykernel_24108/1192117267.py:4: SettingWithCopyWarning: \n",
      "A value is trying to be set on a copy of a slice from a DataFrame.\n",
      "Try using .loc[row_indexer,col_indexer] = value instead\n",
      "\n",
      "See the caveats in the documentation: https://pandas.pydata.org/pandas-docs/stable/user_guide/indexing.html#returning-a-view-versus-a-copy\n",
      "  df[f\"c{i}\"] = df['Close'].shift(i)\n",
      "/var/folders/lg/qshzdl1s03z_hdz077pw4nbm0000gn/T/ipykernel_24108/1192117267.py:4: SettingWithCopyWarning: \n",
      "A value is trying to be set on a copy of a slice from a DataFrame.\n",
      "Try using .loc[row_indexer,col_indexer] = value instead\n",
      "\n",
      "See the caveats in the documentation: https://pandas.pydata.org/pandas-docs/stable/user_guide/indexing.html#returning-a-view-versus-a-copy\n",
      "  df[f\"c{i}\"] = df['Close'].shift(i)\n",
      "/var/folders/lg/qshzdl1s03z_hdz077pw4nbm0000gn/T/ipykernel_24108/1192117267.py:4: SettingWithCopyWarning: \n",
      "A value is trying to be set on a copy of a slice from a DataFrame.\n",
      "Try using .loc[row_indexer,col_indexer] = value instead\n",
      "\n",
      "See the caveats in the documentation: https://pandas.pydata.org/pandas-docs/stable/user_guide/indexing.html#returning-a-view-versus-a-copy\n",
      "  df[f\"c{i}\"] = df['Close'].shift(i)\n"
     ]
    }
   ],
   "source": [
    "from sklearn.preprocessing import StandardScaler, scale\n",
    "\n",
    "for i in range(1, lookback + 1):\n",
    "    df[f\"c{i}\"] = df['Close'].shift(i)\n",
    "\n",
    "scaler = StandardScaler()\n",
    "\n",
    "df[df.columns] = scaler.fit_transform(df[df.columns])\n",
    "\n",
    "df.dropna(inplace=True)"
   ]
  },
  {
   "cell_type": "code",
   "execution_count": 172,
   "metadata": {},
   "outputs": [],
   "source": [
    "df['target'] = df['Close']\n",
    "df.drop(['Close','SMA'], axis=1, inplace=True)\n",
    "\n",
    "train_df = df.iloc[:int(df.shape[0] * 0.9)]\n",
    "test_df = df.iloc[int(df.shape[0] * 0.9):]"
   ]
  },
  {
   "cell_type": "code",
   "execution_count": 173,
   "metadata": {},
   "outputs": [
    {
     "data": {
      "text/plain": [
       "((1115, 21), (124, 21))"
      ]
     },
     "execution_count": 173,
     "metadata": {},
     "output_type": "execute_result"
    }
   ],
   "source": [
    "train_df.shape, test_df.shape"
   ]
  },
  {
   "cell_type": "code",
   "execution_count": 174,
   "metadata": {},
   "outputs": [
    {
     "data": {
      "text/plain": [
       "(torch.Size([1115, 1, 20]),\n",
       " torch.Size([1115]),\n",
       " torch.Size([124, 1, 20]),\n",
       " torch.Size([124]))"
      ]
     },
     "execution_count": 174,
     "metadata": {},
     "output_type": "execute_result"
    }
   ],
   "source": [
    "import torch \n",
    "\n",
    "X_train = torch.from_numpy(train_df.iloc[:, :-1].values).float().reshape(-1, 1, train_df.shape[1] - 1)\n",
    "y_train = torch.from_numpy(train_df.iloc[:, -1].values).float()\n",
    "X_test = torch.from_numpy(test_df.iloc[:, :-1].values).float().reshape(-1, 1, test_df.shape[1] - 1)\n",
    "y_test = torch.from_numpy(test_df.iloc[:, -1].values).float()\n",
    "\n",
    "X_train.shape, y_train.shape, X_test.shape, y_test.shape"
   ]
  },
  {
   "cell_type": "code",
   "execution_count": 175,
   "metadata": {},
   "outputs": [],
   "source": [
    "from torch.utils.data import TensorDataset, DataLoader\n",
    "\n",
    "train_ds = TensorDataset(X_train, y_train)\n",
    "train_dl = DataLoader(train_ds, batch_size=64, shuffle=False)\n",
    "test = TensorDataset(X_test, y_test)\n",
    "test_dl = DataLoader(test, batch_size=64, shuffle=False)"
   ]
  },
  {
   "cell_type": "code",
   "execution_count": 176,
   "metadata": {},
   "outputs": [],
   "source": [
    "class GRU(torch.nn.Module):\n",
    "    def __init__(self, input_dim, hidden_dim, layer_dim, output_dim):\n",
    "        super(GRU, self).__init__()\n",
    "        self.hidden_dim = hidden_dim\n",
    "        self.layer_dim = layer_dim\n",
    "        self.gru = torch.nn.GRU(input_dim, hidden_dim, layer_dim, batch_first=True)\n",
    "        self.fc = torch.nn.Linear(hidden_dim, output_dim)\n",
    "        \n",
    "    def forward(self, x):\n",
    "        h0 = torch.zeros(self.layer_dim, x.size(0), self.hidden_dim).requires_grad_()\n",
    "        out, hn = self.gru(x, h0.detach())\n",
    "        out = self.fc(out[:, -1, :])\n",
    "        return out"
   ]
  },
  {
   "cell_type": "code",
   "execution_count": 177,
   "metadata": {},
   "outputs": [],
   "source": [
    "model = GRU(input_dim=lookback, hidden_dim=64, layer_dim=2, output_dim=1)\n",
    "criterion = torch.nn.MSELoss()\n",
    "optimizer = torch.optim.Adam(model.parameters(), lr=0.01)"
   ]
  },
  {
   "cell_type": "code",
   "execution_count": 178,
   "metadata": {},
   "outputs": [
    {
     "name": "stderr",
     "output_type": "stream",
     "text": [
      "/opt/homebrew/Caskroom/miniconda/base/envs/dl/lib/python3.10/site-packages/torch/nn/modules/loss.py:530: UserWarning: Using a target size (torch.Size([64])) that is different to the input size (torch.Size([64, 1])). This will likely lead to incorrect results due to broadcasting. Please ensure they have the same size.\n",
      "  return F.mse_loss(input, target, reduction=self.reduction)\n",
      "/opt/homebrew/Caskroom/miniconda/base/envs/dl/lib/python3.10/site-packages/torch/nn/modules/loss.py:530: UserWarning: Using a target size (torch.Size([27])) that is different to the input size (torch.Size([27, 1])). This will likely lead to incorrect results due to broadcasting. Please ensure they have the same size.\n",
      "  return F.mse_loss(input, target, reduction=self.reduction)\n"
     ]
    },
    {
     "name": "stdout",
     "output_type": "stream",
     "text": [
      "Epoch: 1, Loss: 0.5514\n",
      "Epoch: 2, Loss: 0.5933\n",
      "Epoch: 3, Loss: 1.4572\n",
      "Epoch: 4, Loss: 0.1777\n",
      "Epoch: 5, Loss: 0.1782\n",
      "Epoch: 6, Loss: 0.1752\n",
      "Epoch: 7, Loss: 0.1746\n",
      "Epoch: 8, Loss: 0.1738\n",
      "Epoch: 9, Loss: 1.8555\n",
      "Epoch: 10, Loss: 0.2123\n",
      "Epoch: 11, Loss: 0.1737\n",
      "Epoch: 12, Loss: 0.1754\n",
      "Epoch: 13, Loss: 0.1732\n",
      "Epoch: 14, Loss: 0.2298\n",
      "Epoch: 15, Loss: 0.1804\n",
      "Epoch: 16, Loss: 0.2211\n",
      "Epoch: 17, Loss: 0.2716\n",
      "Epoch: 18, Loss: 0.1904\n",
      "Epoch: 19, Loss: 0.2212\n",
      "Epoch: 20, Loss: 0.1995\n",
      "Epoch: 21, Loss: 0.2507\n",
      "Epoch: 22, Loss: 0.2301\n",
      "Epoch: 23, Loss: 0.1818\n",
      "Epoch: 24, Loss: 0.1735\n",
      "Epoch: 25, Loss: 0.1904\n",
      "Epoch: 26, Loss: 0.2213\n",
      "Epoch: 27, Loss: 0.1780\n",
      "Epoch: 28, Loss: 0.1825\n",
      "Epoch: 29, Loss: 0.1741\n",
      "Epoch: 30, Loss: 0.1788\n",
      "Epoch: 31, Loss: 0.2198\n",
      "Epoch: 32, Loss: 0.1765\n",
      "Epoch: 33, Loss: 0.1827\n",
      "Epoch: 34, Loss: 0.1737\n",
      "Epoch: 35, Loss: 0.1817\n",
      "Epoch: 36, Loss: 0.2243\n",
      "Epoch: 37, Loss: 0.1770\n",
      "Epoch: 38, Loss: 0.1786\n",
      "Epoch: 39, Loss: 0.1741\n",
      "Epoch: 40, Loss: 0.1861\n",
      "Epoch: 41, Loss: 0.2237\n",
      "Epoch: 42, Loss: 0.1757\n",
      "Epoch: 43, Loss: 0.1765\n",
      "Epoch: 44, Loss: 0.1771\n",
      "Epoch: 45, Loss: 0.1850\n",
      "Epoch: 46, Loss: 0.2206\n",
      "Epoch: 47, Loss: 0.1747\n",
      "Epoch: 48, Loss: 0.1748\n",
      "Epoch: 49, Loss: 0.1792\n",
      "Epoch: 50, Loss: 0.1835\n",
      "Epoch: 51, Loss: 0.2180\n",
      "Epoch: 52, Loss: 0.1746\n",
      "Epoch: 53, Loss: 0.1739\n",
      "Epoch: 54, Loss: 0.1830\n",
      "Epoch: 55, Loss: 0.1826\n",
      "Epoch: 56, Loss: 0.2151\n",
      "Epoch: 57, Loss: 0.1745\n",
      "Epoch: 58, Loss: 0.1735\n",
      "Epoch: 59, Loss: 0.1866\n",
      "Epoch: 60, Loss: 0.1792\n",
      "Epoch: 61, Loss: 0.2116\n",
      "Epoch: 62, Loss: 0.1761\n",
      "Epoch: 63, Loss: 0.1732\n",
      "Epoch: 64, Loss: 0.1960\n",
      "Epoch: 65, Loss: 0.1755\n",
      "Epoch: 66, Loss: 0.1971\n",
      "Epoch: 67, Loss: 0.1819\n",
      "Epoch: 68, Loss: 0.1743\n",
      "Epoch: 69, Loss: 0.2085\n",
      "Epoch: 70, Loss: 0.1774\n",
      "Epoch: 71, Loss: 0.1873\n",
      "Epoch: 72, Loss: 0.1774\n",
      "Epoch: 73, Loss: 0.1756\n",
      "Epoch: 74, Loss: 0.2089\n",
      "Epoch: 75, Loss: 0.1737\n",
      "Epoch: 76, Loss: 0.1775\n",
      "Epoch: 77, Loss: 0.1742\n",
      "Epoch: 78, Loss: 0.1755\n",
      "Epoch: 79, Loss: 0.1888\n",
      "Epoch: 80, Loss: 0.1870\n",
      "Epoch: 81, Loss: 0.1953\n",
      "Epoch: 82, Loss: 0.1733\n",
      "Epoch: 83, Loss: 0.1776\n",
      "Epoch: 84, Loss: 0.1762\n",
      "Epoch: 85, Loss: 0.1794\n",
      "Epoch: 86, Loss: 0.1957\n",
      "Epoch: 87, Loss: 0.1778\n",
      "Epoch: 88, Loss: 0.1800\n",
      "Epoch: 89, Loss: 0.1737\n",
      "Epoch: 90, Loss: 0.1733\n",
      "Epoch: 91, Loss: 0.2009\n",
      "Epoch: 92, Loss: 0.1737\n",
      "Epoch: 93, Loss: 0.1754\n",
      "Epoch: 94, Loss: 0.1774\n",
      "Epoch: 95, Loss: 0.1738\n",
      "Epoch: 96, Loss: 0.1836\n",
      "Epoch: 97, Loss: 0.1735\n",
      "Epoch: 98, Loss: 0.1934\n",
      "Epoch: 99, Loss: 0.1890\n",
      "Epoch: 100, Loss: 0.1762\n"
     ]
    }
   ],
   "source": [
    "max_epochs = 100\n",
    "\n",
    "for epoch in range(max_epochs):\n",
    "    for i, (inputs, labels) in enumerate(train_dl):\n",
    "        optimizer.zero_grad()\n",
    "        outputs = model(inputs)\n",
    "        loss = criterion(outputs, labels)\n",
    "        loss.backward()\n",
    "        optimizer.step()\n",
    "    print(f'Epoch: {epoch+1}, Loss: {loss.item():.4f}')"
   ]
  },
  {
   "cell_type": "code",
   "execution_count": 179,
   "metadata": {},
   "outputs": [
    {
     "data": {
      "text/plain": [
       "0.6004334"
      ]
     },
     "execution_count": 179,
     "metadata": {},
     "output_type": "execute_result"
    }
   ],
   "source": [
    "model = model.eval()\n",
    "y_pred = model(X_test)\n",
    "\n",
    "from sklearn.metrics import mean_squared_error\n",
    "\n",
    "np.sqrt(mean_squared_error(y_test.detach().numpy(), y_pred.detach().numpy()))"
   ]
  },
  {
   "cell_type": "code",
   "execution_count": 203,
   "metadata": {},
   "outputs": [],
   "source": [
    "y = y_pred.detach().numpy()\n",
    "z = (y * scaler.scale_[-1] + scaler.mean_[-1])\n",
    "\n",
    "output = z.reshape(-1)[-10:]\n",
    "\n",
    "final_df = pd.DataFrame(output, columns=['Close'])\n",
    "final_df.to_csv('output.csv')"
   ]
  }
 ],
 "metadata": {
  "kernelspec": {
   "display_name": "Python 3.10.6 ('dl')",
   "language": "python",
   "name": "python3"
  },
  "language_info": {
   "codemirror_mode": {
    "name": "ipython",
    "version": 3
   },
   "file_extension": ".py",
   "mimetype": "text/x-python",
   "name": "python",
   "nbconvert_exporter": "python",
   "pygments_lexer": "ipython3",
   "version": "3.10.6"
  },
  "orig_nbformat": 4,
  "vscode": {
   "interpreter": {
    "hash": "b2b3490ab97e9e12756aa89c01d5382ca6cf08cdaa9c454d9749392520b38d26"
   }
  }
 },
 "nbformat": 4,
 "nbformat_minor": 2
}
